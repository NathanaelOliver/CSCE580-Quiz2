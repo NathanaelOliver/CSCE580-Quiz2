{
 "cells": [
  {
   "cell_type": "code",
   "execution_count": null,
   "metadata": {},
   "outputs": [],
   "source": [
    "\n",
    "\n",
    "operator = [[-2, 0,-1],\n",
    "            [-1, 0,-1],\n",
    "            [-1,-1,-1],\n",
    "            [ 0,-1,-1],\n",
    "            [ 0,-2,-1],\n",
    "            [ 1, 0, 1],\n",
    "            [ 0, 1, 1]]\n",
    "\n",
    "def solved(state):\n",
    "    return state[0] == 0 and state[1] == 0 and state[2] == 0\n",
    "\n",
    "def legal(state):\n",
    "    return state[0] >= 0 and state[1] >= 0 and state[2] >= 0\n",
    "\n",
    "def munched(state):\n",
    "    return state[0] != 3 and state[0] != state[1]\n",
    "\n",
    "def apply_operator(state, op):\n",
    "    return [state[0] + op[0], state[1] + op[1], state[2] + op[2]]\n",
    "\n",
    "def reverse_operator(state, op):\n",
    "    return [state[0] - op[0], state[1] - op[1], state[2] - op[2]]\n",
    "\n",
    "def search(state, depth=1, top=true):\n",
    "    if depth == 1:\n",
    "        if solved(state):\n",
    "            return depth\n",
    "    else:\n",
    "    \n",
    "    for op in operator:\n",
    "        state = apply_operator(state, op)\n",
    "        if legal(state) and not munched(state):\n",
    "            search(state, depth-1)\n",
    "        state = reverse_operator(state, op)\n",
    "\n",
    "        \n",
    "\n",
    "\n",
    "search([3,3,1]);\n",
    "\n",
    "\n",
    "\n"
   ]
  }
 ],
 "metadata": {
  "language_info": {
   "name": "python"
  }
 },
 "nbformat": 4,
 "nbformat_minor": 2
}
